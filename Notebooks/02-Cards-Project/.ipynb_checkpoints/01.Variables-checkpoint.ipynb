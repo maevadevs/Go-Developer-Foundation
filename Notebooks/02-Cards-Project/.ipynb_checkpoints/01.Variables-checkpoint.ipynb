{
 "cells": [
  {
   "cell_type": "markdown",
   "metadata": {},
   "source": [
    "# Variables"
   ]
  },
  {
   "cell_type": "code",
   "execution_count": 1,
   "metadata": {},
   "outputs": [
    {
     "ename": "ERROR",
     "evalue": "runtime error: index out of range",
     "output_type": "error",
     "traceback": [
      "runtime error: index out of range"
     ]
    }
   ],
   "source": [
    "package main"
   ]
  },
  {
   "cell_type": "code",
   "execution_count": 2,
   "metadata": {},
   "outputs": [],
   "source": [
    "import \"fmt\""
   ]
  },
  {
   "cell_type": "markdown",
   "metadata": {},
   "source": [
    "- Variables can be initialized outside of a function\n",
    "- But they can only be assigned a value inside a function\n",
    "- Basic declaration format:\n",
    "\n",
    "```go\n",
    "var name type = value\n",
    "```"
   ]
  },
  {
   "cell_type": "code",
   "execution_count": 3,
   "metadata": {},
   "outputs": [],
   "source": [
    "func main() {\n",
    "    var card string = \"Ace of Spade\"\n",
    "}"
   ]
  },
  {
   "cell_type": "markdown",
   "metadata": {},
   "source": [
    "### `var`"
   ]
  },
  {
   "cell_type": "markdown",
   "metadata": {},
   "source": [
    "- Keyword to create a new variable\n",
    "- **Every declared variables must be used**"
   ]
  },
  {
   "cell_type": "markdown",
   "metadata": {},
   "source": [
    "### `card_one`"
   ]
  },
  {
   "cell_type": "markdown",
   "metadata": {},
   "source": [
    "- Name of the variable"
   ]
  },
  {
   "cell_type": "markdown",
   "metadata": {},
   "source": [
    "### `string`"
   ]
  },
  {
   "cell_type": "markdown",
   "metadata": {},
   "source": [
    "- Data Type of the variable\n",
    "- Go is a statically-typed language\n",
    "- The variable type follows the variable name\n",
    "- Go Fundamental Types:\n",
    "    - `string`\n",
    "\t- `bool`\n",
    "\t- `int`\n",
    "\t- `float64`"
   ]
  },
  {
   "cell_type": "markdown",
   "metadata": {},
   "source": [
    "- We can also declare only and assigned later\n",
    "- Variables can be initialized outside of a function, but can only be assigned inside a function"
   ]
  },
  {
   "cell_type": "code",
   "execution_count": 4,
   "metadata": {},
   "outputs": [],
   "source": [
    "var card string  // Declare\n",
    "\n",
    "func main() {\n",
    "    card = \"Ace of Spade\"  // Assign\n",
    "}"
   ]
  },
  {
   "cell_type": "markdown",
   "metadata": {},
   "source": [
    "## Shortcut Declaration Formats"
   ]
  },
  {
   "cell_type": "code",
   "execution_count": 5,
   "metadata": {},
   "outputs": [],
   "source": [
    "func main() {\n",
    "    var card = \"Ace of Spade\"  // Declare AND Assign\n",
    "}"
   ]
  },
  {
   "cell_type": "markdown",
   "metadata": {},
   "source": [
    "- Go can also automatically infer the variable type from the assigned value\n",
    "  - We use `:=` and ommit the `var` keyword\n",
    "  - **Only use `:=` when declaring a new variable WITH initialization AND type inference**"
   ]
  },
  {
   "cell_type": "code",
   "execution_count": 6,
   "metadata": {},
   "outputs": [],
   "source": [
    "func main() {\n",
    "    card := \"Ace of Spade\"  // This is completely equivalent to the above declaration\n",
    "}"
   ]
  },
  {
   "cell_type": "markdown",
   "metadata": {},
   "source": [
    "## Re-Assign Variables"
   ]
  },
  {
   "cell_type": "markdown",
   "metadata": {},
   "source": [
    "- Obviously, we can re-assign value to any variable\n",
    "- Make sure to use `=` intead of `:=` when re-assigning\n",
    "  - `:=` is only used when declaring-and-assigning at once\n",
    "  - When using `:=`, the type if the variable is deduced implicitly from the assigned value\n",
    "- Make sure that the type of the value matches the declared type of the variable"
   ]
  },
  {
   "cell_type": "code",
   "execution_count": 7,
   "metadata": {},
   "outputs": [],
   "source": [
    "func main() {\n",
    "    card := \"Ace of Spade\"  // Declare AND Assign a variable: Type is implicit string\n",
    "    card = \"Joker\"  // Re-assign a variable\n",
    "}"
   ]
  },
  {
   "cell_type": "markdown",
   "metadata": {},
   "source": [
    "- Variables can be used after they are declared\n",
    "- All declared variables must be used\n",
    "  - If a variable is not used, it must be removed or an error will be thrown"
   ]
  },
  {
   "cell_type": "code",
   "execution_count": 8,
   "metadata": {},
   "outputs": [],
   "source": [
    "func main() {\n",
    "    card := \"Ace of Spade\"  // Declare AND Assign a variable: Type is implicit string\n",
    "    card = \"Joker\"  // Re-assign a variable\n",
    "    println(\"My card is\", card)\n",
    "}"
   ]
  },
  {
   "cell_type": "markdown",
   "metadata": {},
   "source": [
    "## All In One File"
   ]
  },
  {
   "cell_type": "markdown",
   "metadata": {},
   "source": [
    "`main.go`"
   ]
  },
  {
   "cell_type": "code",
   "execution_count": 9,
   "metadata": {},
   "outputs": [],
   "source": [
    "// Package Declaration\n",
    "// *******************\n",
    "// In a notebook environment, we do not declare packages. But this is needed in a standalone file\n",
    "// package main\n",
    "\n",
    "// Package Imports\n",
    "// ***************\n",
    "import \"fmt\"\n",
    "\n",
    "// Define Functions\n",
    "// ****************\n",
    "func main() {\n",
    "    card := \"Ace of Spade\"  // Declare AND Assign a variable: Type is implicit string\n",
    "    card = \"Joker\"  // Re-assign a variable\n",
    "    println(\"My card is\", card)\n",
    "}"
   ]
  },
  {
   "cell_type": "code",
   "execution_count": 10,
   "metadata": {},
   "outputs": [
    {
     "name": "stderr",
     "output_type": "stream",
     "text": [
      "My card is Joker\n"
     ]
    }
   ],
   "source": [
    "// In actual program, the following is done automatically for main() when running go build and go run\n",
    "// Only required in a notebook environment to execute the function\n",
    "main()"
   ]
  }
 ],
 "metadata": {
  "kernelspec": {
   "display_name": "Go",
   "language": "go",
   "name": "gophernotes"
  },
  "language_info": {
   "codemirror_mode": "",
   "file_extension": ".go",
   "mimetype": "",
   "name": "go",
   "nbconvert_exporter": "",
   "pygments_lexer": "",
   "version": "go1.11.4"
  }
 },
 "nbformat": 4,
 "nbformat_minor": 2
}
