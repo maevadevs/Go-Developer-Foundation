{
 "cells": [
  {
   "cell_type": "markdown",
   "metadata": {},
   "source": [
    "# Functions"
   ]
  },
  {
   "cell_type": "code",
   "execution_count": 1,
   "metadata": {},
   "outputs": [],
   "source": [
    "package main"
   ]
  },
  {
   "cell_type": "code",
   "execution_count": 2,
   "metadata": {},
   "outputs": [],
   "source": [
    "import \"fmt\""
   ]
  },
  {
   "cell_type": "markdown",
   "metadata": {},
   "source": [
    "## Helper Functions"
   ]
  },
  {
   "cell_type": "markdown",
   "metadata": {},
   "source": [
    "- Format for declaring a function: \n",
    "\n",
    "```go\n",
    "func func_name(<args>) <returnType?> { \n",
    "    <body> \n",
    "    ... \n",
    "    <return?>\n",
    "}\n",
    "```\n",
    "\n",
    "- A function returning a value needs to declare its return type in its declaration\n",
    "- If the function returns nothing (e.g. only prints), skip the <returnType>"
   ]
  },
  {
   "cell_type": "code",
   "execution_count": 3,
   "metadata": {},
   "outputs": [],
   "source": [
    "func new_card() string {\n",
    "    return \"5 of Diamonds\"\n",
    "}"
   ]
  },
  {
   "cell_type": "code",
   "execution_count": 4,
   "metadata": {},
   "outputs": [],
   "source": [
    "func get_age() int {\n",
    "    return 20\n",
    "}"
   ]
  },
  {
   "cell_type": "markdown",
   "metadata": {},
   "source": [
    "We can then call functions and associate their returned values to variables"
   ]
  },
  {
   "cell_type": "code",
   "execution_count": 5,
   "metadata": {},
   "outputs": [
    {
     "name": "stdout",
     "output_type": "stream",
     "text": [
      "5 of Diamonds\n",
      "20\n"
     ]
    },
    {
     "data": {
      "text/plain": [
       "3 <nil>"
      ]
     },
     "execution_count": 5,
     "metadata": {},
     "output_type": "execute_result"
    }
   ],
   "source": [
    "card := new_card()  // string\n",
    "age := get_age()  // int\n",
    "// Making use of the variables\n",
    "fmt.Println(card)\n",
    "fmt.Println(age)"
   ]
  },
  {
   "cell_type": "markdown",
   "metadata": {},
   "source": [
    "## All In One File"
   ]
  },
  {
   "cell_type": "code",
   "execution_count": 6,
   "metadata": {},
   "outputs": [],
   "source": [
    "// Package Declaration\n",
    "// *******************\n",
    "// In a notebook environment, we do not declare packages. But this is needed in a standalone file\n",
    "// package main\n",
    "\n",
    "// Package Imports\n",
    "// ***************\n",
    "import \"fmt\"\n",
    "\n",
    "// Define Functions\n",
    "// ****************\n",
    "func main() {\n",
    "    \n",
    "    // Variables\n",
    "    // *********\n",
    "    card := newCard()  // string\n",
    "    age := getAge()  // int\n",
    "\n",
    "    // Making use of the variables\n",
    "    fmt.Println(card)\n",
    "    fmt.Println(age)\n",
    "    \n",
    "}\n",
    "\n",
    "// Helper Functions\n",
    "// ****************\n",
    "func newCard() string {\n",
    "    return \"5 of Diamonds\"\n",
    "}\n",
    "\n",
    "func getAge() int {\n",
    "    return 20\n",
    "}"
   ]
  },
  {
   "cell_type": "code",
   "execution_count": 7,
   "metadata": {},
   "outputs": [
    {
     "name": "stdout",
     "output_type": "stream",
     "text": [
      "5 of Diamonds\n",
      "20\n"
     ]
    }
   ],
   "source": [
    "// In actual program, the following is done automatically for main() when running go build and go run\n",
    "// Only required in a notebook environment to execute the function\n",
    "main()"
   ]
  }
 ],
 "metadata": {
  "kernelspec": {
   "display_name": "Go",
   "language": "go",
   "name": "gophernotes"
  },
  "language_info": {
   "codemirror_mode": "",
   "file_extension": ".go",
   "mimetype": "",
   "name": "go",
   "nbconvert_exporter": "",
   "pygments_lexer": "",
   "version": "go1.11.4"
  }
 },
 "nbformat": 4,
 "nbformat_minor": 2
}
