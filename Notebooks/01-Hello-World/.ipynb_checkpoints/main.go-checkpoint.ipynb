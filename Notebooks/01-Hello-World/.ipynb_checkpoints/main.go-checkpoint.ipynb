{
 "cells": [
  {
   "cell_type": "markdown",
   "metadata": {},
   "source": [
    "# Hello World, Hello Go!"
   ]
  },
  {
   "cell_type": "markdown",
   "metadata": {},
   "source": [
    "## Package"
   ]
  },
  {
   "cell_type": "markdown",
   "metadata": {},
   "source": [
    "Package == Project == Workspace\n",
    "\n",
    "- A Package can have many files associated with it\n",
    "- Each file ending with `.go`\n",
    "- The very first line of each file in the same package must start with the package declaration"
   ]
  },
  {
   "cell_type": "markdown",
   "metadata": {},
   "source": [
    "There are 2 types of packages:\n",
    "\n",
    "**1. Executable**\n",
    "\n",
    "- Always `main` package\n",
    "- Must always have a function called `main()` as well\n",
    "- Generates a `.exe`/`.bin` file that we can run when compiled\n",
    "- Code used when we want to do something (Executable codes)\n",
    "\n",
    "\n",
    "**2. Reusable**\n",
    "\n",
    "- Any other package name other than `main`\n",
    "- Code used as *helpers* for reusable logic, libraries, dependencies"
   ]
  },
  {
   "cell_type": "markdown",
   "metadata": {},
   "source": [
    "- Files in the same package do not have to be imported into each other before they can be used\n",
    "- If other packages are declared with `package main`, the functions they contains can be used here directly\n",
    "- But one of the file must contain the `main()` function as the primary entry"
   ]
  },
  {
   "cell_type": "code",
   "execution_count": 1,
   "metadata": {},
   "outputs": [
    {
     "ename": "ERROR",
     "evalue": "runtime error: index out of range",
     "output_type": "error",
     "traceback": [
      "runtime error: index out of range"
     ]
    }
   ],
   "source": [
    "// Package declaration must be the first line in the file\n",
    "package main"
   ]
  },
  {
   "cell_type": "markdown",
   "metadata": {},
   "source": [
    "## Import"
   ]
  },
  {
   "cell_type": "markdown",
   "metadata": {},
   "source": [
    "- Allows to import codes from other packages (Reusable)\n",
    "- `\"fmt\"`\n",
    "  - A standard package within Go (pkg.go.dev/std)\n",
    "  - Short for \"format\"\n",
    "  - Mostly used for debugging and development\n",
    "- Unless we import a package, we have no access to any functionalities in another package\n",
    "  - We are not limited to import packages from the standard library\n",
    "  - We can import packages written by other engineers as well"
   ]
  },
  {
   "cell_type": "code",
   "execution_count": 2,
   "metadata": {},
   "outputs": [],
   "source": [
    "// Importing the fmt package\n",
    "import \"fmt\""
   ]
  },
  {
   "cell_type": "markdown",
   "metadata": {},
   "source": [
    "## `main()` Function"
   ]
  },
  {
   "cell_type": "markdown",
   "metadata": {},
   "source": [
    "- A `main` package must have a `main()` function defined as the entry-point\n",
    "- This is a Go func, similar functionality to other languages"
   ]
  },
  {
   "cell_type": "code",
   "execution_count": 3,
   "metadata": {},
   "outputs": [],
   "source": [
    "func main() {\n",
    "    fmt.Println(\"Hello World, Hello Go!\")\n",
    "}"
   ]
  },
  {
   "cell_type": "code",
   "execution_count": 4,
   "metadata": {},
   "outputs": [
    {
     "name": "stdout",
     "output_type": "stream",
     "text": [
      "Hello World, Hello Go!\n"
     ]
    }
   ],
   "source": [
    "// In actual program, the follswing is done automatically for main() when running go build or go run\n",
    "// Only required in a notebook environment to execute the function\n",
    "main()"
   ]
  },
  {
   "cell_type": "markdown",
   "metadata": {},
   "source": [
    "## How Is A Go File Organized"
   ]
  },
  {
   "cell_type": "markdown",
   "metadata": {},
   "source": [
    "In practice, always the same typical pattern:\n",
    "\n",
    "1. Package Declaration\n",
    "2. Package Imports\n",
    "3. Functions Definitions\n",
    "\n",
    "So the `Hello-World.go` file would be organized in the following way"
   ]
  },
  {
   "cell_type": "code",
   "execution_count": 5,
   "metadata": {},
   "outputs": [],
   "source": [
    "// Package Declaration\n",
    "// *******************\n",
    "// In a notebook environment, we do not declare packages. But this is needed in a standalone file\n",
    "// package main\n",
    "\n",
    "// Package Imports\n",
    "// ***************\n",
    "import \"fmt\"\n",
    "\n",
    "// Define Functions\n",
    "// ****************\n",
    "func main() {\n",
    "    fmt.Println(\"Hello World, Hello Go!\")\n",
    "}"
   ]
  },
  {
   "cell_type": "code",
   "execution_count": 6,
   "metadata": {},
   "outputs": [
    {
     "name": "stdout",
     "output_type": "stream",
     "text": [
      "Hello World, Hello Go!\n"
     ]
    }
   ],
   "source": [
    "// In actual program, the following is done automatically for main() when running go build and go run\n",
    "// Only required in a notebook environment to execute the function\n",
    "main()"
   ]
  },
  {
   "cell_type": "markdown",
   "metadata": {},
   "source": [
    "## How Do We Run Code In Our Project"
   ]
  },
  {
   "cell_type": "markdown",
   "metadata": {},
   "source": [
    "```sh\n",
    "# Run one of these commands in the terminal\n",
    "> go run <filename>.go\n",
    "> go run \"path/to/filename.go\"\n",
    "```"
   ]
  },
  {
   "cell_type": "markdown",
   "metadata": {},
   "source": [
    "## Available Go Commands"
   ]
  },
  {
   "cell_type": "markdown",
   "metadata": {},
   "source": [
    "Compiles a bunch of go source code files into executable binaries:\n",
    "\n",
    "```sh\n",
    "> go build\n",
    "```\n",
    "\n",
    "Compiles *and* execute a bunch of go source code files (build + run) but does not produce an actual executable:\n",
    "\n",
    "```sh\n",
    "> go run\n",
    "```\n",
    "\n",
    "Formats all the code in each file in the current directory:\n",
    "\n",
    "```sh\n",
    "> go fmt\n",
    "```\n",
    "\n",
    "Compiles and *install* a package:\n",
    "\n",
    "```sh\n",
    "> go install\n",
    "```\n",
    "\n",
    "Download the raw source code of someone else's package:\n",
    "\n",
    "```sh\n",
    "> go get\n",
    "```\n",
    "\n",
    "Runs any tests associated with the current projects\n",
    "\n",
    "```sh\n",
    "> go test\n",
    "```"
   ]
  }
 ],
 "metadata": {
  "kernelspec": {
   "display_name": "Go",
   "language": "go",
   "name": "gophernotes"
  },
  "language_info": {
   "codemirror_mode": "",
   "file_extension": ".go",
   "mimetype": "",
   "name": "go",
   "nbconvert_exporter": "",
   "pygments_lexer": "",
   "version": "go1.11.4"
  }
 },
 "nbformat": 4,
 "nbformat_minor": 2
}
